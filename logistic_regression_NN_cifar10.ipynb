{
  "cells": [
    {
      "cell_type": "code",
      "execution_count": 1,
      "metadata": {
        "colab": {
          "base_uri": "https://localhost:8080/"
        },
        "id": "lSll-kV_bYkB",
        "outputId": "f69830cf-8206-4534-836f-efedea8b902a"
      },
      "outputs": [
        {
          "output_type": "stream",
          "name": "stdout",
          "text": [
            "2.8.0\n"
          ]
        }
      ],
      "source": [
        "import numpy as np\n",
        "from tensorflow import keras\n",
        "print (keras.__version__)\n"
      ]
    },
    {
      "cell_type": "code",
      "execution_count": 2,
      "metadata": {
        "colab": {
          "base_uri": "https://localhost:8080/"
        },
        "id": "Yt6NW6k1eHtC",
        "outputId": "404e31cc-06a7-4680-86c5-172dcfa0bd1e"
      },
      "outputs": [
        {
          "output_type": "stream",
          "name": "stdout",
          "text": [
            "Downloading data from https://www.cs.toronto.edu/~kriz/cifar-10-python.tar.gz\n",
            "170500096/170498071 [==============================] - 6s 0us/step\n",
            "170508288/170498071 [==============================] - 6s 0us/step\n"
          ]
        },
        {
          "output_type": "execute_result",
          "data": {
            "text/plain": [
              "(50000, 32, 32, 3)"
            ]
          },
          "metadata": {},
          "execution_count": 2
        }
      ],
      "source": [
        "from keras.datasets import cifar10\n",
        "\n",
        "#We import data into variables and check their shape.\n",
        "\n",
        "(x_train, y_train), (x_test, y_test) = cifar10.load_data()\n",
        "x_train.shape\n"
      ]
    },
    {
      "cell_type": "code",
      "execution_count": 3,
      "metadata": {
        "colab": {
          "base_uri": "https://localhost:8080/"
        },
        "id": "EM2kRL5beTyK",
        "outputId": "5f9fc247-f847-41b5-d499-8b6ee27fcdf6"
      },
      "outputs": [
        {
          "output_type": "execute_result",
          "data": {
            "text/plain": [
              "(50000, 1)"
            ]
          },
          "metadata": {},
          "execution_count": 3
        }
      ],
      "source": [
        "y_train.shape\n"
      ]
    },
    {
      "cell_type": "code",
      "execution_count": 4,
      "metadata": {
        "colab": {
          "base_uri": "https://localhost:8080/"
        },
        "id": "-IXpHpyxesLq",
        "outputId": "851f6568-cacc-4d92-a1c1-3db59a3683ca"
      },
      "outputs": [
        {
          "output_type": "execute_result",
          "data": {
            "text/plain": [
              "array([[6],\n",
              "       [9],\n",
              "       [9],\n",
              "       [4],\n",
              "       [1],\n",
              "       [1],\n",
              "       [2],\n",
              "       [7],\n",
              "       [8],\n",
              "       [3]], dtype=uint8)"
            ]
          },
          "metadata": {},
          "execution_count": 4
        }
      ],
      "source": [
        "y_train[:10]"
      ]
    },
    {
      "cell_type": "code",
      "execution_count": 5,
      "metadata": {
        "colab": {
          "base_uri": "https://localhost:8080/"
        },
        "id": "FUrYANRrg81R",
        "outputId": "c5c21273-7cfd-4519-bcef-fb9ec5b826ca"
      },
      "outputs": [
        {
          "output_type": "execute_result",
          "data": {
            "text/plain": [
              "(50000, 3072)"
            ]
          },
          "metadata": {},
          "execution_count": 5
        }
      ],
      "source": [
        "x_train_final = x_train.reshape((-1, 3072))\n",
        "x_train_final.shape\n"
      ]
    },
    {
      "cell_type": "code",
      "execution_count": 6,
      "metadata": {
        "colab": {
          "base_uri": "https://localhost:8080/"
        },
        "id": "PvASQG1HiQsb",
        "outputId": "cc45da01-491e-4df6-8fa9-a3be3a0218f3"
      },
      "outputs": [
        {
          "output_type": "execute_result",
          "data": {
            "text/plain": [
              "(10000, 3072)"
            ]
          },
          "metadata": {},
          "execution_count": 6
        }
      ],
      "source": [
        "x_test_final = x_test.reshape((-1, 3072))\n",
        "x_test_final.shape"
      ]
    },
    {
      "cell_type": "code",
      "execution_count": 7,
      "metadata": {
        "id": "FeitXU4CjM1O"
      },
      "outputs": [],
      "source": [
        "x_train_final = x_train_final / 255\n",
        "x_test_final = x_test_final / 255\n"
      ]
    },
    {
      "cell_type": "code",
      "execution_count": 8,
      "metadata": {
        "id": "qkEPIMixjVHa"
      },
      "outputs": [],
      "source": [
        "model = keras.Sequential()\n",
        "model.add(keras.layers.Dense(512, input_shape=(3072,), activation='softplus'))\n",
        "model.add(keras.layers.Dense(256, activation='softplus'))\n",
        "model.add(keras.layers.Dense(10, activation='softmax'))\n",
        "\n"
      ]
    },
    {
      "cell_type": "code",
      "execution_count": 9,
      "metadata": {
        "id": "w6cW3p63kS_Y"
      },
      "outputs": [],
      "source": [
        "model.compile(optimizer='sgd', loss='sparse_categorical_crossentropy', metrics=['accuracy'])\n"
      ]
    },
    {
      "cell_type": "code",
      "execution_count": 10,
      "metadata": {
        "colab": {
          "base_uri": "https://localhost:8080/"
        },
        "id": "OrA0NyZdkb3K",
        "outputId": "1abfcec0-69dc-40f5-e464-2c70ea007848"
      },
      "outputs": [
        {
          "output_type": "stream",
          "name": "stdout",
          "text": [
            "Epoch 1/50\n",
            "3125/3125 [==============================] - 15s 4ms/step - loss: 1.9287 - accuracy: 0.3050 - val_loss: 1.8165 - val_accuracy: 0.3443\n",
            "Epoch 2/50\n",
            "3125/3125 [==============================] - 12s 4ms/step - loss: 1.7749 - accuracy: 0.3680 - val_loss: 1.7242 - val_accuracy: 0.3848\n",
            "Epoch 3/50\n",
            "3125/3125 [==============================] - 12s 4ms/step - loss: 1.6986 - accuracy: 0.3966 - val_loss: 1.6662 - val_accuracy: 0.4001\n",
            "Epoch 4/50\n",
            "3125/3125 [==============================] - 12s 4ms/step - loss: 1.6475 - accuracy: 0.4196 - val_loss: 1.6518 - val_accuracy: 0.4158\n",
            "Epoch 5/50\n",
            "3125/3125 [==============================] - 12s 4ms/step - loss: 1.6091 - accuracy: 0.4312 - val_loss: 1.6037 - val_accuracy: 0.4324\n",
            "Epoch 6/50\n",
            "3125/3125 [==============================] - 12s 4ms/step - loss: 1.5771 - accuracy: 0.4426 - val_loss: 1.5650 - val_accuracy: 0.4500\n",
            "Epoch 7/50\n",
            "3125/3125 [==============================] - 12s 4ms/step - loss: 1.5464 - accuracy: 0.4538 - val_loss: 1.5419 - val_accuracy: 0.4503\n",
            "Epoch 8/50\n",
            "3125/3125 [==============================] - 12s 4ms/step - loss: 1.5207 - accuracy: 0.4637 - val_loss: 1.5073 - val_accuracy: 0.4646\n",
            "Epoch 9/50\n",
            "3125/3125 [==============================] - 12s 4ms/step - loss: 1.4982 - accuracy: 0.4731 - val_loss: 1.4972 - val_accuracy: 0.4736\n",
            "Epoch 10/50\n",
            "3125/3125 [==============================] - 12s 4ms/step - loss: 1.4749 - accuracy: 0.4792 - val_loss: 1.4776 - val_accuracy: 0.4793\n",
            "Epoch 11/50\n",
            "3125/3125 [==============================] - 12s 4ms/step - loss: 1.4544 - accuracy: 0.4858 - val_loss: 1.5195 - val_accuracy: 0.4577\n",
            "Epoch 12/50\n",
            "3125/3125 [==============================] - 12s 4ms/step - loss: 1.4366 - accuracy: 0.4938 - val_loss: 1.4734 - val_accuracy: 0.4772\n",
            "Epoch 13/50\n",
            "3125/3125 [==============================] - 12s 4ms/step - loss: 1.4181 - accuracy: 0.4973 - val_loss: 1.4418 - val_accuracy: 0.4893\n",
            "Epoch 14/50\n",
            "3125/3125 [==============================] - 12s 4ms/step - loss: 1.4017 - accuracy: 0.5037 - val_loss: 1.4530 - val_accuracy: 0.4877\n",
            "Epoch 15/50\n",
            "3125/3125 [==============================] - 12s 4ms/step - loss: 1.3850 - accuracy: 0.5119 - val_loss: 1.4274 - val_accuracy: 0.4946\n",
            "Epoch 16/50\n",
            "3125/3125 [==============================] - 12s 4ms/step - loss: 1.3687 - accuracy: 0.5154 - val_loss: 1.4210 - val_accuracy: 0.4985\n",
            "Epoch 17/50\n",
            "3125/3125 [==============================] - 12s 4ms/step - loss: 1.3525 - accuracy: 0.5211 - val_loss: 1.4326 - val_accuracy: 0.4868\n",
            "Epoch 18/50\n",
            "3125/3125 [==============================] - 12s 4ms/step - loss: 1.3378 - accuracy: 0.5273 - val_loss: 1.3935 - val_accuracy: 0.5090\n",
            "Epoch 19/50\n",
            "3125/3125 [==============================] - 12s 4ms/step - loss: 1.3254 - accuracy: 0.5302 - val_loss: 1.3970 - val_accuracy: 0.4999\n",
            "Epoch 20/50\n",
            "3125/3125 [==============================] - 12s 4ms/step - loss: 1.3114 - accuracy: 0.5354 - val_loss: 1.3976 - val_accuracy: 0.5069\n",
            "Epoch 21/50\n",
            "3125/3125 [==============================] - 12s 4ms/step - loss: 1.2988 - accuracy: 0.5375 - val_loss: 1.3848 - val_accuracy: 0.5098\n",
            "Epoch 22/50\n",
            "3125/3125 [==============================] - 12s 4ms/step - loss: 1.2819 - accuracy: 0.5453 - val_loss: 1.4131 - val_accuracy: 0.5004\n",
            "Epoch 23/50\n",
            "3125/3125 [==============================] - 12s 4ms/step - loss: 1.2701 - accuracy: 0.5496 - val_loss: 1.3665 - val_accuracy: 0.5189\n",
            "Epoch 24/50\n",
            "3125/3125 [==============================] - 12s 4ms/step - loss: 1.2565 - accuracy: 0.5535 - val_loss: 1.3788 - val_accuracy: 0.5121\n",
            "Epoch 25/50\n",
            "3125/3125 [==============================] - 12s 4ms/step - loss: 1.2428 - accuracy: 0.5583 - val_loss: 1.3846 - val_accuracy: 0.5124\n",
            "Epoch 26/50\n",
            "3125/3125 [==============================] - 12s 4ms/step - loss: 1.2306 - accuracy: 0.5630 - val_loss: 1.3555 - val_accuracy: 0.5159\n",
            "Epoch 27/50\n",
            "3125/3125 [==============================] - 12s 4ms/step - loss: 1.2189 - accuracy: 0.5651 - val_loss: 1.3676 - val_accuracy: 0.5276\n",
            "Epoch 28/50\n",
            "3125/3125 [==============================] - 12s 4ms/step - loss: 1.2061 - accuracy: 0.5734 - val_loss: 1.3607 - val_accuracy: 0.5156\n",
            "Epoch 29/50\n",
            "3125/3125 [==============================] - 12s 4ms/step - loss: 1.1925 - accuracy: 0.5775 - val_loss: 1.3757 - val_accuracy: 0.5223\n",
            "Epoch 30/50\n",
            "3125/3125 [==============================] - 12s 4ms/step - loss: 1.1804 - accuracy: 0.5802 - val_loss: 1.3793 - val_accuracy: 0.5192\n",
            "Epoch 31/50\n",
            "3125/3125 [==============================] - 12s 4ms/step - loss: 1.1693 - accuracy: 0.5859 - val_loss: 1.3521 - val_accuracy: 0.5270\n",
            "Epoch 32/50\n",
            "3125/3125 [==============================] - 12s 4ms/step - loss: 1.1554 - accuracy: 0.5907 - val_loss: 1.3946 - val_accuracy: 0.5125\n",
            "Epoch 33/50\n",
            "3125/3125 [==============================] - 12s 4ms/step - loss: 1.1452 - accuracy: 0.5924 - val_loss: 1.3459 - val_accuracy: 0.5294\n",
            "Epoch 34/50\n",
            "3125/3125 [==============================] - 12s 4ms/step - loss: 1.1343 - accuracy: 0.5955 - val_loss: 1.3577 - val_accuracy: 0.5282\n",
            "Epoch 35/50\n",
            "3125/3125 [==============================] - 12s 4ms/step - loss: 1.1200 - accuracy: 0.6027 - val_loss: 1.3561 - val_accuracy: 0.5283\n",
            "Epoch 36/50\n",
            "3125/3125 [==============================] - 12s 4ms/step - loss: 1.1089 - accuracy: 0.6068 - val_loss: 1.3427 - val_accuracy: 0.5356\n",
            "Epoch 37/50\n",
            "3125/3125 [==============================] - 12s 4ms/step - loss: 1.0984 - accuracy: 0.6089 - val_loss: 1.3422 - val_accuracy: 0.5295\n",
            "Epoch 38/50\n",
            "3125/3125 [==============================] - 12s 4ms/step - loss: 1.0858 - accuracy: 0.6145 - val_loss: 1.3250 - val_accuracy: 0.5371\n",
            "Epoch 39/50\n",
            "3125/3125 [==============================] - 12s 4ms/step - loss: 1.0743 - accuracy: 0.6180 - val_loss: 1.3694 - val_accuracy: 0.5291\n",
            "Epoch 40/50\n",
            "3125/3125 [==============================] - 12s 4ms/step - loss: 1.0645 - accuracy: 0.6215 - val_loss: 1.3281 - val_accuracy: 0.5421\n",
            "Epoch 41/50\n",
            "3125/3125 [==============================] - 12s 4ms/step - loss: 1.0513 - accuracy: 0.6252 - val_loss: 1.3128 - val_accuracy: 0.5437\n",
            "Epoch 42/50\n",
            "3125/3125 [==============================] - 12s 4ms/step - loss: 1.0403 - accuracy: 0.6318 - val_loss: 1.3243 - val_accuracy: 0.5418\n",
            "Epoch 43/50\n",
            "3125/3125 [==============================] - 12s 4ms/step - loss: 1.0268 - accuracy: 0.6337 - val_loss: 1.3639 - val_accuracy: 0.5335\n",
            "Epoch 44/50\n",
            "3125/3125 [==============================] - 12s 4ms/step - loss: 1.0188 - accuracy: 0.6378 - val_loss: 1.3709 - val_accuracy: 0.5329\n",
            "Epoch 45/50\n",
            "3125/3125 [==============================] - 12s 4ms/step - loss: 1.0060 - accuracy: 0.6447 - val_loss: 1.3321 - val_accuracy: 0.5430\n",
            "Epoch 46/50\n",
            "3125/3125 [==============================] - 12s 4ms/step - loss: 0.9959 - accuracy: 0.6469 - val_loss: 1.4286 - val_accuracy: 0.5236\n",
            "Epoch 47/50\n",
            "3125/3125 [==============================] - 12s 4ms/step - loss: 0.9850 - accuracy: 0.6506 - val_loss: 1.3376 - val_accuracy: 0.5395\n",
            "Epoch 48/50\n",
            "3125/3125 [==============================] - 12s 4ms/step - loss: 0.9729 - accuracy: 0.6539 - val_loss: 1.3438 - val_accuracy: 0.5456\n",
            "Epoch 49/50\n",
            "3125/3125 [==============================] - 12s 4ms/step - loss: 0.9589 - accuracy: 0.6575 - val_loss: 1.3481 - val_accuracy: 0.5466\n",
            "Epoch 50/50\n",
            "3125/3125 [==============================] - 12s 4ms/step - loss: 0.9501 - accuracy: 0.6615 - val_loss: 1.3972 - val_accuracy: 0.5296\n"
          ]
        }
      ],
      "source": [
        "results = model.fit(\n",
        "  x=x_train_final,\n",
        "  y=y_train,\n",
        "  shuffle=True,\n",
        "  epochs=50,\n",
        "  batch_size=16,\n",
        "  validation_data=(x_test_final, y_test)\n",
        "\n",
        ")\n"
      ]
    },
    {
      "cell_type": "code",
      "execution_count": 11,
      "metadata": {
        "colab": {
          "base_uri": "https://localhost:8080/"
        },
        "id": "zsm8NudSnbXu",
        "outputId": "79d1fcd4-39a0-45d9-a6a8-c6acb8f09a6b"
      },
      "outputs": [
        {
          "output_type": "stream",
          "name": "stdout",
          "text": [
            "313/313 [==============================] - 1s 4ms/step - loss: 1.3972 - accuracy: 0.5296\n"
          ]
        }
      ],
      "source": [
        "eval = model.evaluate(x=x_test_final, y=y_test)\n"
      ]
    },
    {
      "cell_type": "code",
      "execution_count": 12,
      "metadata": {
        "colab": {
          "base_uri": "https://localhost:8080/",
          "height": 312
        },
        "id": "z6YQ_jX0oX-R",
        "outputId": "9cffdd8d-0c66-4f50-c525-b231b824d9de"
      },
      "outputs": [
        {
          "output_type": "execute_result",
          "data": {
            "text/plain": [
              "Text(0, 0.5, 'Losses')"
            ]
          },
          "metadata": {},
          "execution_count": 12
        },
        {
          "output_type": "display_data",
          "data": {
            "text/plain": [
              "<Figure size 432x288 with 1 Axes>"
            ],
            "image/png": "[encoded data removed]"
          },
          "metadata": {
            "needs_background": "light"
          }
        }
      ],
      "source": [
        "import matplotlib.pyplot as plt\n",
        "\n",
        "plt.plot(results.history['loss'])\n",
        "plt.plot(results.history['val_loss'])\n",
        "plt.legend(['Training', 'Validation'])\n",
        "plt.title('Training and Validation Losses')\n",
        "plt.xlabel('epoch')\n",
        "plt.ylabel('Losses')\n"
      ]
    },
    {
      "cell_type": "code",
      "execution_count": 13,
      "metadata": {
        "colab": {
          "base_uri": "https://localhost:8080/",
          "height": 312
        },
        "id": "t42U1jSTp-1m",
        "outputId": "b1883de7-5b89-4a69-d081-1403475c0ffa"
      },
      "outputs": [
        {
          "output_type": "execute_result",
          "data": {
            "text/plain": [
              "Text(0, 0.5, 'Accuracy')"
            ]
          },
          "metadata": {},
          "execution_count": 13
        },
        {
          "output_type": "display_data",
          "data": {
            "text/plain": [
              "<Figure size 432x288 with 1 Axes>"
            ],
            "image/png": "[encoded data removed]"
          },
          "metadata": {
            "needs_background": "light"
          }
        }
      ],
      "source": [
        "plt.plot(results.history['accuracy'])\n",
        "plt.plot(results.history['val_accuracy'])\n",
        "plt.legend(['Training', 'Validation'])\n",
        "plt.title('Training and Validation accuracy')\n",
        "plt.xlabel('epoch')\n",
        "plt.ylabel('Accuracy')"
      ]
    },
    {
      "cell_type": "code",
      "execution_count": 14,
      "metadata": {
        "colab": {
          "base_uri": "https://localhost:8080/"
        },
        "id": "vd7zNlVtT98x",
        "outputId": "78222404-19a3-4eb2-b97d-0102c0f20145"
      },
      "outputs": [
        {
          "output_type": "stream",
          "name": "stdout",
          "text": [
            "Model: \"sequential\"\n",
            "_________________________________________________________________\n",
            " Layer (type)                Output Shape              Param #   \n",
            "=================================================================\n",
            " dense (Dense)               (None, 512)               1573376   \n",
            "                                                                 \n",
            " dense_1 (Dense)             (None, 256)               131328    \n",
            "                                                                 \n",
            " dense_2 (Dense)             (None, 10)                2570      \n",
            "                                                                 \n",
            "=================================================================\n",
            "Total params: 1,707,274\n",
            "Trainable params: 1,707,274\n",
            "Non-trainable params: 0\n",
            "_________________________________________________________________\n"
          ]
        }
      ],
      "source": [
        "model.summary() "
      ]
    }
  ],
  "metadata": {
    "accelerator": "GPU",
    "colab": {
      "collapsed_sections": [],
      "name": "Logistic_Regression_NN_cifar10.ipynb",
      "provenance": []
    },
    "kernelspec": {
      "display_name": "Python 3",
      "name": "python3"
    },
    "language_info": {
      "name": "python"
    }
  },
  "nbformat": 4,
  "nbformat_minor": 0
}