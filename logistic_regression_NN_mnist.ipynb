{
  "cells": [
    {
      "cell_type": "code",
      "execution_count": 1,
      "metadata": {
        "colab": {
          "base_uri": "https://localhost:8080/"
        },
        "id": "G8rDIaLsXHDz",
        "outputId": "f5459602-e7ac-4984-87fc-affaf6456ee7"
      },
      "outputs": [
        {
          "output_type": "stream",
          "name": "stdout",
          "text": [
            "2.8.0\n"
          ]
        }
      ],
      "source": [
        "import numpy as np\n",
        "from tensorflow import keras\n",
        "print (keras.__version__)\n"
      ]
    },
    {
      "cell_type": "code",
      "execution_count": 2,
      "metadata": {
        "id": "bxhXidorXwU8",
        "colab": {
          "base_uri": "https://localhost:8080/"
        },
        "outputId": "c46d052b-6771-4440-8ad8-5847f859983e"
      },
      "outputs": [
        {
          "output_type": "stream",
          "name": "stdout",
          "text": [
            "Downloading data from https://storage.googleapis.com/tensorflow/tf-keras-datasets/mnist.npz\n",
            "11493376/11490434 [==============================] - 0s 0us/step\n",
            "11501568/11490434 [==============================] - 0s 0us/step\n"
          ]
        }
      ],
      "source": [
        "from keras.datasets import mnist\n",
        "(X_train, y_train), (X_test, y_test) = mnist.load_data()\n"
      ]
    },
    {
      "cell_type": "code",
      "execution_count": 3,
      "metadata": {
        "colab": {
          "base_uri": "https://localhost:8080/"
        },
        "id": "0HZICpafYUGQ",
        "outputId": "33ac54b9-e00e-4541-8176-ca8dc91c51e5"
      },
      "outputs": [
        {
          "output_type": "execute_result",
          "data": {
            "text/plain": [
              "(60000, 28, 28)"
            ]
          },
          "metadata": {},
          "execution_count": 3
        }
      ],
      "source": [
        "X_train.shape"
      ]
    },
    {
      "cell_type": "code",
      "execution_count": 4,
      "metadata": {
        "colab": {
          "base_uri": "https://localhost:8080/"
        },
        "id": "6XlSgo9UYoEE",
        "outputId": "286b7c72-fadb-43ea-9c32-9c5a392fda80"
      },
      "outputs": [
        {
          "output_type": "execute_result",
          "data": {
            "text/plain": [
              "Counter({0: 5923,\n",
              "         1: 6742,\n",
              "         2: 5958,\n",
              "         3: 6131,\n",
              "         4: 5842,\n",
              "         5: 5421,\n",
              "         6: 5918,\n",
              "         7: 6265,\n",
              "         8: 5851,\n",
              "         9: 5949})"
            ]
          },
          "metadata": {},
          "execution_count": 4
        }
      ],
      "source": [
        "from collections import Counter\n",
        "Counter(y_train)"
      ]
    },
    {
      "cell_type": "code",
      "execution_count": 5,
      "metadata": {
        "colab": {
          "base_uri": "https://localhost:8080/"
        },
        "id": "zNt4qckKY0EF",
        "outputId": "72e90395-cc13-4142-e2c8-1a40b16bb87b"
      },
      "outputs": [
        {
          "output_type": "execute_result",
          "data": {
            "text/plain": [
              "(60000, 784)"
            ]
          },
          "metadata": {},
          "execution_count": 5
        }
      ],
      "source": [
        "X_train_final = X_train.reshape(-1,784)\n",
        "X_train_final.shape"
      ]
    },
    {
      "cell_type": "code",
      "execution_count": 6,
      "metadata": {
        "colab": {
          "base_uri": "https://localhost:8080/"
        },
        "id": "ZT4eR4aZZ950",
        "outputId": "d33a9457-3000-4fb4-a489-d54069416d3f"
      },
      "outputs": [
        {
          "output_type": "execute_result",
          "data": {
            "text/plain": [
              "(10000, 784)"
            ]
          },
          "metadata": {},
          "execution_count": 6
        }
      ],
      "source": [
        "X_test_final = X_test.reshape(-1,784)\n",
        "X_test_final.shape"
      ]
    },
    {
      "cell_type": "code",
      "execution_count": 7,
      "metadata": {
        "id": "GGaadGjPcSI3"
      },
      "outputs": [],
      "source": [
        "X_train_final = X_train_final / 255\n",
        "X_test_final = X_test_final / 255"
      ]
    },
    {
      "cell_type": "code",
      "execution_count": 8,
      "metadata": {
        "id": "JwqwOjaxcfD8"
      },
      "outputs": [],
      "source": [
        "model = keras.Sequential()\n",
        "\n",
        "# First Hidden Layer\n",
        "model.add(keras.layers.Dense(512, input_shape= (784,), activation = 'relu'))\n",
        "# Output Layer\n",
        "model.add(keras.layers.Dense(10, activation = 'softmax'))\n"
      ]
    },
    {
      "cell_type": "code",
      "execution_count": 9,
      "metadata": {
        "id": "6pERnk4FdyEE"
      },
      "outputs": [],
      "source": [
        "model.compile(optimizer='sgd', loss='sparse_categorical_crossentropy', metrics=['accuracy'])"
      ]
    },
    {
      "cell_type": "code",
      "execution_count": 10,
      "metadata": {
        "colab": {
          "base_uri": "https://localhost:8080/"
        },
        "id": "Z9Uqhz48hubZ",
        "outputId": "d30ce6d8-c5f8-48c6-fe08-f31f8e0389f6"
      },
      "outputs": [
        {
          "output_type": "stream",
          "name": "stdout",
          "text": [
            "Epoch 1/30\n",
            "3750/3750 [==============================] - 15s 3ms/step - loss: 0.4684 - accuracy: 0.8791 - val_loss: 0.2832 - val_accuracy: 0.9221\n",
            "Epoch 2/30\n",
            "3750/3750 [==============================] - 9s 2ms/step - loss: 0.2642 - accuracy: 0.9261 - val_loss: 0.2261 - val_accuracy: 0.9341\n",
            "Epoch 3/30\n",
            "3750/3750 [==============================] - 9s 2ms/step - loss: 0.2150 - accuracy: 0.9402 - val_loss: 0.1920 - val_accuracy: 0.9436\n",
            "Epoch 4/30\n",
            "3750/3750 [==============================] - 9s 2ms/step - loss: 0.1815 - accuracy: 0.9496 - val_loss: 0.1658 - val_accuracy: 0.9518\n",
            "Epoch 5/30\n",
            "3750/3750 [==============================] - 9s 2ms/step - loss: 0.1578 - accuracy: 0.9559 - val_loss: 0.1479 - val_accuracy: 0.9576\n",
            "Epoch 6/30\n",
            "3750/3750 [==============================] - 9s 2ms/step - loss: 0.1396 - accuracy: 0.9613 - val_loss: 0.1379 - val_accuracy: 0.9593\n",
            "Epoch 7/30\n",
            "3750/3750 [==============================] - 9s 2ms/step - loss: 0.1251 - accuracy: 0.9658 - val_loss: 0.1282 - val_accuracy: 0.9628\n",
            "Epoch 8/30\n",
            "3750/3750 [==============================] - 9s 2ms/step - loss: 0.1136 - accuracy: 0.9691 - val_loss: 0.1178 - val_accuracy: 0.9647\n",
            "Epoch 9/30\n",
            "3750/3750 [==============================] - 10s 3ms/step - loss: 0.1038 - accuracy: 0.9717 - val_loss: 0.1074 - val_accuracy: 0.9677\n",
            "Epoch 10/30\n",
            "3750/3750 [==============================] - 9s 2ms/step - loss: 0.0956 - accuracy: 0.9741 - val_loss: 0.1014 - val_accuracy: 0.9687\n",
            "Epoch 11/30\n",
            "3750/3750 [==============================] - 9s 2ms/step - loss: 0.0884 - accuracy: 0.9762 - val_loss: 0.0993 - val_accuracy: 0.9699\n",
            "Epoch 12/30\n",
            "3750/3750 [==============================] - 9s 2ms/step - loss: 0.0820 - accuracy: 0.9782 - val_loss: 0.0939 - val_accuracy: 0.9712\n",
            "Epoch 13/30\n",
            "3750/3750 [==============================] - 9s 2ms/step - loss: 0.0766 - accuracy: 0.9799 - val_loss: 0.0895 - val_accuracy: 0.9737\n",
            "Epoch 14/30\n",
            "3750/3750 [==============================] - 9s 2ms/step - loss: 0.0715 - accuracy: 0.9815 - val_loss: 0.0858 - val_accuracy: 0.9747\n",
            "Epoch 15/30\n",
            "3750/3750 [==============================] - 8s 2ms/step - loss: 0.0671 - accuracy: 0.9827 - val_loss: 0.0841 - val_accuracy: 0.9750\n",
            "Epoch 16/30\n",
            "3750/3750 [==============================] - 9s 2ms/step - loss: 0.0633 - accuracy: 0.9835 - val_loss: 0.0816 - val_accuracy: 0.9754\n",
            "Epoch 17/30\n",
            "3750/3750 [==============================] - 9s 2ms/step - loss: 0.0598 - accuracy: 0.9848 - val_loss: 0.0790 - val_accuracy: 0.9766\n",
            "Epoch 18/30\n",
            "3750/3750 [==============================] - 8s 2ms/step - loss: 0.0563 - accuracy: 0.9856 - val_loss: 0.0756 - val_accuracy: 0.9778\n",
            "Epoch 19/30\n",
            "3750/3750 [==============================] - 8s 2ms/step - loss: 0.0534 - accuracy: 0.9866 - val_loss: 0.0749 - val_accuracy: 0.9780\n",
            "Epoch 20/30\n",
            "3750/3750 [==============================] - 8s 2ms/step - loss: 0.0508 - accuracy: 0.9872 - val_loss: 0.0733 - val_accuracy: 0.9781\n",
            "Epoch 21/30\n",
            "3750/3750 [==============================] - 9s 2ms/step - loss: 0.0482 - accuracy: 0.9879 - val_loss: 0.0727 - val_accuracy: 0.9778\n",
            "Epoch 22/30\n",
            "3750/3750 [==============================] - 9s 2ms/step - loss: 0.0457 - accuracy: 0.9888 - val_loss: 0.0716 - val_accuracy: 0.9788\n",
            "Epoch 23/30\n",
            "3750/3750 [==============================] - 9s 2ms/step - loss: 0.0437 - accuracy: 0.9894 - val_loss: 0.0687 - val_accuracy: 0.9799\n",
            "Epoch 24/30\n",
            "3750/3750 [==============================] - 9s 2ms/step - loss: 0.0416 - accuracy: 0.9900 - val_loss: 0.0682 - val_accuracy: 0.9790\n",
            "Epoch 25/30\n",
            "3750/3750 [==============================] - 9s 2ms/step - loss: 0.0398 - accuracy: 0.9907 - val_loss: 0.0670 - val_accuracy: 0.9805\n",
            "Epoch 26/30\n",
            "3750/3750 [==============================] - 9s 2ms/step - loss: 0.0380 - accuracy: 0.9909 - val_loss: 0.0668 - val_accuracy: 0.9789\n",
            "Epoch 27/30\n",
            "3750/3750 [==============================] - 10s 3ms/step - loss: 0.0362 - accuracy: 0.9919 - val_loss: 0.0646 - val_accuracy: 0.9803\n",
            "Epoch 28/30\n",
            "3750/3750 [==============================] - 12s 3ms/step - loss: 0.0346 - accuracy: 0.9921 - val_loss: 0.0651 - val_accuracy: 0.9800\n",
            "Epoch 29/30\n",
            "3750/3750 [==============================] - 8s 2ms/step - loss: 0.0331 - accuracy: 0.9926 - val_loss: 0.0633 - val_accuracy: 0.9802\n",
            "Epoch 30/30\n",
            "3750/3750 [==============================] - 9s 2ms/step - loss: 0.0317 - accuracy: 0.9931 - val_loss: 0.0637 - val_accuracy: 0.9802\n"
          ]
        }
      ],
      "source": [
        "results = model.fit(\n",
        "    x = X_train_final,\n",
        "    y = y_train,\n",
        "    shuffle = True,\n",
        "    epochs = 30,\n",
        "    batch_size = 16,\n",
        "    validation_data = (X_test_final, y_test)\n",
        ")"
      ]
    },
    {
      "cell_type": "code",
      "source": [
        "eval = model.evaluate(x = X_test_final, y = y_test)"
      ],
      "metadata": {
        "colab": {
          "base_uri": "https://localhost:8080/"
        },
        "id": "CoRF1iK4sUDk",
        "outputId": "4e7214a5-b7ee-4b0d-c0e2-0e2a92cc3f3e"
      },
      "execution_count": 12,
      "outputs": [
        {
          "output_type": "stream",
          "name": "stdout",
          "text": [
            "313/313 [==============================] - 1s 3ms/step - loss: 0.0637 - accuracy: 0.9802\n"
          ]
        }
      ]
    },
    {
      "cell_type": "code",
      "execution_count": 13,
      "metadata": {
        "id": "w0wdLlrXkRQS"
      },
      "outputs": [],
      "source": [
        "import matplotlib.pyplot as plt"
      ]
    },
    {
      "cell_type": "code",
      "execution_count": 14,
      "metadata": {
        "colab": {
          "base_uri": "https://localhost:8080/",
          "height": 312
        },
        "id": "Gm6uiT24kPTt",
        "outputId": "04268fbc-6c36-47b3-87d5-6dd3b168a423"
      },
      "outputs": [
        {
          "output_type": "execute_result",
          "data": {
            "text/plain": [
              "Text(0, 0.5, 'Losses')"
            ]
          },
          "metadata": {},
          "execution_count": 14
        },
        {
          "output_type": "display_data",
          "data": {
            "text/plain": [
              "<Figure size 432x288 with 1 Axes>"
            ],
            "image/png": "[encoded data removed]"
          },
          "metadata": {
            "needs_background": "light"
          }
        }
      ],
      "source": [
        "plt.plot(results.history['loss'])\n",
        "plt.plot(results.history['val_loss'])\n",
        "plt.legend(['Training', 'Validation'])\n",
        "plt.title('Training and Validation Losses')\n",
        "plt.xlabel('epoch')\n",
        "plt.ylabel('Losses')\n"
      ]
    },
    {
      "cell_type": "code",
      "execution_count": 15,
      "metadata": {
        "colab": {
          "base_uri": "https://localhost:8080/",
          "height": 312
        },
        "id": "jiiwD9zFllbA",
        "outputId": "ef96349f-a676-4a45-83d9-0f67fc5dba6f"
      },
      "outputs": [
        {
          "output_type": "execute_result",
          "data": {
            "text/plain": [
              "Text(0, 0.5, 'accuarcy')"
            ]
          },
          "metadata": {},
          "execution_count": 15
        },
        {
          "output_type": "display_data",
          "data": {
            "text/plain": [
              "<Figure size 432x288 with 1 Axes>"
            ],
            "image/png": "[encoded data removed]"
          },
          "metadata": {
            "needs_background": "light"
          }
        }
      ],
      "source": [
        "plt.plot(results.history['accuracy'])\n",
        "plt.plot(results.history['val_accuracy'])\n",
        "plt.legend(['Training', 'Validation'])\n",
        "plt.title('Training and Validation accuarcy')\n",
        "plt.xlabel('epoch')\n",
        "plt.ylabel('accuarcy')\n"
      ]
    },
    {
      "cell_type": "code",
      "execution_count": 16,
      "metadata": {
        "colab": {
          "base_uri": "https://localhost:8080/"
        },
        "id": "We_tNLhf0Nvo",
        "outputId": "6b7b3b8c-c1ca-466c-8453-64158cd11258"
      },
      "outputs": [
        {
          "output_type": "stream",
          "name": "stdout",
          "text": [
            "Model: \"sequential\"\n",
            "_________________________________________________________________\n",
            " Layer (type)                Output Shape              Param #   \n",
            "=================================================================\n",
            " dense (Dense)               (None, 512)               401920    \n",
            "                                                                 \n",
            " dense_1 (Dense)             (None, 10)                5130      \n",
            "                                                                 \n",
            "=================================================================\n",
            "Total params: 407,050\n",
            "Trainable params: 407,050\n",
            "Non-trainable params: 0\n",
            "_________________________________________________________________\n"
          ]
        }
      ],
      "source": [
        "model.summary()"
      ]
    }
  ],
  "metadata": {
    "accelerator": "GPU",
    "colab": {
      "name": "logistic_regression_keras_mnist.ipynb",
      "provenance": []
    },
    "kernelspec": {
      "display_name": "Python 3",
      "name": "python3"
    },
    "language_info": {
      "name": "python"
    }
  },
  "nbformat": 4,
  "nbformat_minor": 0
}