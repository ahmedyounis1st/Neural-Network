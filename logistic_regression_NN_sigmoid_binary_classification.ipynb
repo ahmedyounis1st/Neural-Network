{
  "nbformat": 4,
  "nbformat_minor": 0,
  "metadata": {
    "colab": {
      "name": "logistic_regression_keras_binary_classification.ipynb",
      "provenance": []
    },
    "kernelspec": {
      "name": "python3",
      "display_name": "Python 3"
    },
    "language_info": {
      "name": "python"
    },
    "accelerator": "GPU"
  },
  "cells": [
    {
      "cell_type": "code",
      "execution_count": 1,
      "metadata": {
        "colab": {
          "base_uri": "https://localhost:8080/"
        },
        "id": "G8rDIaLsXHDz",
        "outputId": "e85f4c8a-696f-4d6d-81d8-35055d8eb4aa"
      },
      "outputs": [
        {
          "output_type": "stream",
          "name": "stdout",
          "text": [
            "2.8.0\n"
          ]
        }
      ],
      "source": [
        "import numpy as np\n",
        "from tensorflow import keras\n",
        "print (keras.__version__)\n"
      ]
    },
    {
      "cell_type": "code",
      "source": [
        "from keras.datasets import mnist\n",
        "(X_train, y_train), (X_test, y_test) = mnist.load_data()\n"
      ],
      "metadata": {
        "id": "bxhXidorXwU8"
      },
      "execution_count": 2,
      "outputs": []
    },
    {
      "cell_type": "code",
      "source": [
        "X_train, y_train = X_train[(y_train==0) | (y_train==1)], y_train[(y_train==0) | (y_train==1)]"
      ],
      "metadata": {
        "id": "Ypql9cdlx1VY"
      },
      "execution_count": 3,
      "outputs": []
    },
    {
      "cell_type": "code",
      "source": [
        "X_test, y_test = X_test[(y_test==0) | (y_test==1)], y_test[(y_test==0) | (y_test==1)]\n"
      ],
      "metadata": {
        "id": "77nWtjbLyMRq"
      },
      "execution_count": 4,
      "outputs": []
    },
    {
      "cell_type": "code",
      "source": [
        "X_train.shape"
      ],
      "metadata": {
        "colab": {
          "base_uri": "https://localhost:8080/"
        },
        "id": "0HZICpafYUGQ",
        "outputId": "4f041ebf-5302-4eea-ea1a-a0e41c486bc9"
      },
      "execution_count": 5,
      "outputs": [
        {
          "output_type": "execute_result",
          "data": {
            "text/plain": [
              "(12665, 28, 28)"
            ]
          },
          "metadata": {},
          "execution_count": 5
        }
      ]
    },
    {
      "cell_type": "code",
      "source": [
        "from collections import Counter\n",
        "Counter(y_train)"
      ],
      "metadata": {
        "colab": {
          "base_uri": "https://localhost:8080/"
        },
        "id": "6XlSgo9UYoEE",
        "outputId": "e0471189-9ff1-4b7b-cced-994d10816d39"
      },
      "execution_count": 6,
      "outputs": [
        {
          "output_type": "execute_result",
          "data": {
            "text/plain": [
              "Counter({0: 5923, 1: 6742})"
            ]
          },
          "metadata": {},
          "execution_count": 6
        }
      ]
    },
    {
      "cell_type": "code",
      "source": [
        "X_train_final = X_train.reshape(-1,784)\n",
        "X_train_final.shape"
      ],
      "metadata": {
        "colab": {
          "base_uri": "https://localhost:8080/"
        },
        "id": "zNt4qckKY0EF",
        "outputId": "49241cbd-2abf-4e5c-e1ca-27940927409e"
      },
      "execution_count": 7,
      "outputs": [
        {
          "output_type": "execute_result",
          "data": {
            "text/plain": [
              "(12665, 784)"
            ]
          },
          "metadata": {},
          "execution_count": 7
        }
      ]
    },
    {
      "cell_type": "code",
      "source": [
        "X_test_final = X_test.reshape(-1,784)\n",
        "X_test_final.shape"
      ],
      "metadata": {
        "colab": {
          "base_uri": "https://localhost:8080/"
        },
        "id": "ZT4eR4aZZ950",
        "outputId": "87667249-f1ef-448b-83e7-da2aafb8b284"
      },
      "execution_count": 8,
      "outputs": [
        {
          "output_type": "execute_result",
          "data": {
            "text/plain": [
              "(2115, 784)"
            ]
          },
          "metadata": {},
          "execution_count": 8
        }
      ]
    },
    {
      "cell_type": "code",
      "source": [
        "X_train_final = X_train_final / 255\n",
        "X_test_final = X_test_final / 255"
      ],
      "metadata": {
        "id": "GGaadGjPcSI3"
      },
      "execution_count": 9,
      "outputs": []
    },
    {
      "cell_type": "code",
      "source": [
        "model = keras.Sequential()\n",
        "\n",
        "# First Hidden Layer\n",
        "model.add(keras.layers.Dense(512, input_shape= (784,), activation = 'relu'))\n",
        "# Second Hidden Layer\n",
        "model.add(keras.layers.Dense(256, activation = 'relu'))\n",
        "# Output Layer\n",
        "model.add(keras.layers.Dense(1, activation = 'sigmoid'))"
      ],
      "metadata": {
        "id": "JwqwOjaxcfD8"
      },
      "execution_count": 10,
      "outputs": []
    },
    {
      "cell_type": "code",
      "source": [
        "model.compile(optimizer='sgd', loss='binary_crossentropy', metrics=['binary_accuracy'])"
      ],
      "metadata": {
        "id": "6pERnk4FdyEE"
      },
      "execution_count": 11,
      "outputs": []
    },
    {
      "cell_type": "code",
      "source": [
        "results = model.fit(\n",
        "    x = X_train_final,\n",
        "    y = y_train,\n",
        "    shuffle = True,\n",
        "    epochs = 30,\n",
        "    batch_size = 16,\n",
        "    validation_data = (X_test_final, y_test)\n",
        ")"
      ],
      "metadata": {
        "colab": {
          "base_uri": "https://localhost:8080/"
        },
        "id": "Z9Uqhz48hubZ",
        "outputId": "c81091d4-c5ff-482f-b5ba-5f9a02562fac"
      },
      "execution_count": 12,
      "outputs": [
        {
          "output_type": "stream",
          "name": "stdout",
          "text": [
            "Epoch 1/30\n",
            "792/792 [==============================] - 7s 6ms/step - loss: 0.0588 - binary_accuracy: 0.9900 - val_loss: 0.0077 - val_binary_accuracy: 0.9991\n",
            "Epoch 2/30\n",
            "792/792 [==============================] - 4s 5ms/step - loss: 0.0090 - binary_accuracy: 0.9981 - val_loss: 0.0040 - val_binary_accuracy: 1.0000\n",
            "Epoch 3/30\n",
            "792/792 [==============================] - 3s 3ms/step - loss: 0.0061 - binary_accuracy: 0.9983 - val_loss: 0.0029 - val_binary_accuracy: 1.0000\n",
            "Epoch 4/30\n",
            "792/792 [==============================] - 2s 3ms/step - loss: 0.0051 - binary_accuracy: 0.9984 - val_loss: 0.0024 - val_binary_accuracy: 1.0000\n",
            "Epoch 5/30\n",
            "792/792 [==============================] - 2s 3ms/step - loss: 0.0042 - binary_accuracy: 0.9989 - val_loss: 0.0021 - val_binary_accuracy: 1.0000\n",
            "Epoch 6/30\n",
            "792/792 [==============================] - 3s 3ms/step - loss: 0.0038 - binary_accuracy: 0.9989 - val_loss: 0.0019 - val_binary_accuracy: 1.0000\n",
            "Epoch 7/30\n",
            "792/792 [==============================] - 2s 3ms/step - loss: 0.0033 - binary_accuracy: 0.9988 - val_loss: 0.0018 - val_binary_accuracy: 1.0000\n",
            "Epoch 8/30\n",
            "792/792 [==============================] - 2s 3ms/step - loss: 0.0031 - binary_accuracy: 0.9990 - val_loss: 0.0017 - val_binary_accuracy: 1.0000\n",
            "Epoch 9/30\n",
            "792/792 [==============================] - 2s 3ms/step - loss: 0.0028 - binary_accuracy: 0.9990 - val_loss: 0.0017 - val_binary_accuracy: 0.9995\n",
            "Epoch 10/30\n",
            "792/792 [==============================] - 3s 3ms/step - loss: 0.0026 - binary_accuracy: 0.9991 - val_loss: 0.0017 - val_binary_accuracy: 0.9995\n",
            "Epoch 11/30\n",
            "792/792 [==============================] - 2s 3ms/step - loss: 0.0024 - binary_accuracy: 0.9994 - val_loss: 0.0016 - val_binary_accuracy: 0.9995\n",
            "Epoch 12/30\n",
            "792/792 [==============================] - 2s 3ms/step - loss: 0.0022 - binary_accuracy: 0.9993 - val_loss: 0.0015 - val_binary_accuracy: 0.9995\n",
            "Epoch 13/30\n",
            "792/792 [==============================] - 2s 3ms/step - loss: 0.0021 - binary_accuracy: 0.9994 - val_loss: 0.0015 - val_binary_accuracy: 0.9995\n",
            "Epoch 14/30\n",
            "792/792 [==============================] - 2s 3ms/step - loss: 0.0020 - binary_accuracy: 0.9994 - val_loss: 0.0015 - val_binary_accuracy: 0.9995\n",
            "Epoch 15/30\n",
            "792/792 [==============================] - 3s 3ms/step - loss: 0.0019 - binary_accuracy: 0.9994 - val_loss: 0.0014 - val_binary_accuracy: 0.9995\n",
            "Epoch 16/30\n",
            "792/792 [==============================] - 3s 3ms/step - loss: 0.0017 - binary_accuracy: 0.9994 - val_loss: 0.0014 - val_binary_accuracy: 0.9995\n",
            "Epoch 17/30\n",
            "792/792 [==============================] - 3s 3ms/step - loss: 0.0016 - binary_accuracy: 0.9995 - val_loss: 0.0014 - val_binary_accuracy: 0.9995\n",
            "Epoch 18/30\n",
            "792/792 [==============================] - 3s 3ms/step - loss: 0.0015 - binary_accuracy: 0.9996 - val_loss: 0.0013 - val_binary_accuracy: 1.0000\n",
            "Epoch 19/30\n",
            "792/792 [==============================] - 3s 3ms/step - loss: 0.0015 - binary_accuracy: 0.9996 - val_loss: 0.0013 - val_binary_accuracy: 0.9995\n",
            "Epoch 20/30\n",
            "792/792 [==============================] - 2s 3ms/step - loss: 0.0014 - binary_accuracy: 0.9997 - val_loss: 0.0013 - val_binary_accuracy: 0.9995\n",
            "Epoch 21/30\n",
            "792/792 [==============================] - 2s 3ms/step - loss: 0.0013 - binary_accuracy: 0.9997 - val_loss: 0.0013 - val_binary_accuracy: 0.9995\n",
            "Epoch 22/30\n",
            "792/792 [==============================] - 3s 3ms/step - loss: 0.0012 - binary_accuracy: 0.9998 - val_loss: 0.0013 - val_binary_accuracy: 0.9995\n",
            "Epoch 23/30\n",
            "792/792 [==============================] - 2s 3ms/step - loss: 0.0012 - binary_accuracy: 0.9998 - val_loss: 0.0013 - val_binary_accuracy: 1.0000\n",
            "Epoch 24/30\n",
            "792/792 [==============================] - 2s 3ms/step - loss: 0.0011 - binary_accuracy: 0.9997 - val_loss: 0.0012 - val_binary_accuracy: 1.0000\n",
            "Epoch 25/30\n",
            "792/792 [==============================] - 3s 3ms/step - loss: 0.0011 - binary_accuracy: 0.9998 - val_loss: 0.0012 - val_binary_accuracy: 0.9995\n",
            "Epoch 26/30\n",
            "792/792 [==============================] - 3s 3ms/step - loss: 0.0010 - binary_accuracy: 0.9998 - val_loss: 0.0012 - val_binary_accuracy: 0.9995\n",
            "Epoch 27/30\n",
            "792/792 [==============================] - 3s 3ms/step - loss: 9.7461e-04 - binary_accuracy: 0.9999 - val_loss: 0.0012 - val_binary_accuracy: 0.9995\n",
            "Epoch 28/30\n",
            "792/792 [==============================] - 2s 3ms/step - loss: 9.4199e-04 - binary_accuracy: 0.9999 - val_loss: 0.0012 - val_binary_accuracy: 0.9995\n",
            "Epoch 29/30\n",
            "792/792 [==============================] - 2s 3ms/step - loss: 8.9398e-04 - binary_accuracy: 0.9999 - val_loss: 0.0011 - val_binary_accuracy: 0.9995\n",
            "Epoch 30/30\n",
            "792/792 [==============================] - 3s 3ms/step - loss: 8.5078e-04 - binary_accuracy: 0.9999 - val_loss: 0.0011 - val_binary_accuracy: 1.0000\n"
          ]
        }
      ]
    },
    {
      "cell_type": "code",
      "source": [
        "eval = model.evaluate(x = X_test_final, y = y_test)"
      ],
      "metadata": {
        "colab": {
          "base_uri": "https://localhost:8080/"
        },
        "id": "sWhLxWkPwmq-",
        "outputId": "f2b57339-291c-4610-d2fd-5f33bdb18e52"
      },
      "execution_count": 13,
      "outputs": [
        {
          "output_type": "stream",
          "name": "stdout",
          "text": [
            "67/67 [==============================] - 0s 2ms/step - loss: 0.0011 - binary_accuracy: 1.0000\n"
          ]
        }
      ]
    },
    {
      "cell_type": "code",
      "source": [
        "import matplotlib.pyplot as plt"
      ],
      "metadata": {
        "id": "w0wdLlrXkRQS"
      },
      "execution_count": 14,
      "outputs": []
    },
    {
      "cell_type": "code",
      "source": [
        "plt.plot(results.history['loss'])\n",
        "plt.plot(results.history['val_loss'])\n",
        "plt.legend(['Training', 'Validation'])\n",
        "plt.title('Training and Validation Losses')\n",
        "plt.xlabel('epoch')\n",
        "plt.ylabel('Losses')\n"
      ],
      "metadata": {
        "colab": {
          "base_uri": "https://localhost:8080/",
          "height": 312
        },
        "id": "Gm6uiT24kPTt",
        "outputId": "74795f3d-c373-4d2a-995e-6aa25af4cf6d"
      },
      "execution_count": 15,
      "outputs": [
        {
          "output_type": "execute_result",
          "data": {
            "text/plain": [
              "Text(0, 0.5, 'Losses')"
            ]
          },
          "metadata": {},
          "execution_count": 15
        },
        {
          "output_type": "display_data",
          "data": {
            "text/plain": [
              "<Figure size 432x288 with 1 Axes>"
            ],
            "image/png": "[encoded data removed]"
          },
          "metadata": {
            "needs_background": "light"
          }
        }
      ]
    },
    {
      "cell_type": "code",
      "source": [
        "plt.plot(results.history['binary_accuracy'])\n",
        "plt.plot(results.history['val_binary_accuracy'])\n",
        "plt.legend(['Training', 'Validation'])\n",
        "plt.title('Training and Validation accuarcy')\n",
        "plt.xlabel('epoch')\n",
        "plt.ylabel('accuarcy')\n"
      ],
      "metadata": {
        "colab": {
          "base_uri": "https://localhost:8080/",
          "height": 312
        },
        "id": "jiiwD9zFllbA",
        "outputId": "4a9c61c8-ac37-4fe2-8f71-352bae5fd368"
      },
      "execution_count": 16,
      "outputs": [
        {
          "output_type": "execute_result",
          "data": {
            "text/plain": [
              "Text(0, 0.5, 'accuarcy')"
            ]
          },
          "metadata": {},
          "execution_count": 16
        },
        {
          "output_type": "display_data",
          "data": {
            "text/plain": [
              "<Figure size 432x288 with 1 Axes>"
            ],
            "image/png": "[encoded data removed]"
          },
          "metadata": {
            "needs_background": "light"
          }
        }
      ]
    },
    {
      "cell_type": "code",
      "source": [
        "model.summary()"
      ],
      "metadata": {
        "id": "aQqJMbkWwXjN",
        "colab": {
          "base_uri": "https://localhost:8080/"
        },
        "outputId": "63ba01f1-9af5-4cf8-a574-24167576f2f7"
      },
      "execution_count": 17,
      "outputs": [
        {
          "output_type": "stream",
          "name": "stdout",
          "text": [
            "Model: \"sequential\"\n",
            "_________________________________________________________________\n",
            " Layer (type)                Output Shape              Param #   \n",
            "=================================================================\n",
            " dense (Dense)               (None, 512)               401920    \n",
            "                                                                 \n",
            " dense_1 (Dense)             (None, 256)               131328    \n",
            "                                                                 \n",
            " dense_2 (Dense)             (None, 1)                 257       \n",
            "                                                                 \n",
            "=================================================================\n",
            "Total params: 533,505\n",
            "Trainable params: 533,505\n",
            "Non-trainable params: 0\n",
            "_________________________________________________________________\n"
          ]
        }
      ]
    }
  ]
}