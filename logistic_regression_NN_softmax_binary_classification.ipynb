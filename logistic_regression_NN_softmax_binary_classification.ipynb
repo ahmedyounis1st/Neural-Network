{
  "nbformat": 4,
  "nbformat_minor": 0,
  "metadata": {
    "colab": {
      "name": "logistic_regression_keras_binary_classification.ipynb",
      "provenance": []
    },
    "kernelspec": {
      "name": "python3",
      "display_name": "Python 3"
    },
    "language_info": {
      "name": "python"
    },
    "accelerator": "GPU"
  },
  "cells": [
    {
      "cell_type": "code",
      "execution_count": 1,
      "metadata": {
        "colab": {
          "base_uri": "https://localhost:8080/"
        },
        "id": "G8rDIaLsXHDz",
        "outputId": "b629c52c-a106-4169-8a1f-a72bb05a8362"
      },
      "outputs": [
        {
          "output_type": "stream",
          "name": "stdout",
          "text": [
            "2.8.0\n"
          ]
        }
      ],
      "source": [
        "import numpy as np\n",
        "from tensorflow import keras\n",
        "print (keras.__version__)\n"
      ]
    },
    {
      "cell_type": "code",
      "source": [
        "from keras.datasets import mnist\n",
        "(X_train, y_train), (X_test, y_test) = mnist.load_data()\n"
      ],
      "metadata": {
        "id": "bxhXidorXwU8"
      },
      "execution_count": 2,
      "outputs": []
    },
    {
      "cell_type": "code",
      "source": [
        "X_train, y_train = X_train[(y_train==7) | (y_train==1)], y_train[(y_train==7) | (y_train==1)]"
      ],
      "metadata": {
        "id": "Ypql9cdlx1VY"
      },
      "execution_count": 3,
      "outputs": []
    },
    {
      "cell_type": "code",
      "source": [
        "X_test, y_test = X_test[(y_test==7) | (y_test==1)], y_test[(y_test==7) | (y_test==1)]\n"
      ],
      "metadata": {
        "id": "77nWtjbLyMRq"
      },
      "execution_count": 4,
      "outputs": []
    },
    {
      "cell_type": "code",
      "source": [
        "X_train.shape"
      ],
      "metadata": {
        "colab": {
          "base_uri": "https://localhost:8080/"
        },
        "id": "0HZICpafYUGQ",
        "outputId": "c5ec04e7-f44c-41b8-8f21-a93b48d3ab04"
      },
      "execution_count": 5,
      "outputs": [
        {
          "output_type": "execute_result",
          "data": {
            "text/plain": [
              "(13007, 28, 28)"
            ]
          },
          "metadata": {},
          "execution_count": 5
        }
      ]
    },
    {
      "cell_type": "code",
      "source": [
        "from collections import Counter\n",
        "Counter(y_train)"
      ],
      "metadata": {
        "colab": {
          "base_uri": "https://localhost:8080/"
        },
        "id": "6XlSgo9UYoEE",
        "outputId": "2c3affaf-a405-4600-ab9f-5318886dbfbb"
      },
      "execution_count": 6,
      "outputs": [
        {
          "output_type": "execute_result",
          "data": {
            "text/plain": [
              "Counter({1: 6742, 7: 6265})"
            ]
          },
          "metadata": {},
          "execution_count": 6
        }
      ]
    },
    {
      "cell_type": "code",
      "source": [
        "X_train_final = X_train.reshape(-1,784)\n",
        "X_train_final.shape"
      ],
      "metadata": {
        "colab": {
          "base_uri": "https://localhost:8080/"
        },
        "id": "zNt4qckKY0EF",
        "outputId": "de2bb223-b882-4193-c1e7-6fcbed77107d"
      },
      "execution_count": 7,
      "outputs": [
        {
          "output_type": "execute_result",
          "data": {
            "text/plain": [
              "(13007, 784)"
            ]
          },
          "metadata": {},
          "execution_count": 7
        }
      ]
    },
    {
      "cell_type": "code",
      "source": [
        "X_test_final = X_test.reshape(-1,784)\n",
        "X_test_final.shape"
      ],
      "metadata": {
        "colab": {
          "base_uri": "https://localhost:8080/"
        },
        "id": "ZT4eR4aZZ950",
        "outputId": "ee18aa99-f390-4e7a-d6a4-8c397b441391"
      },
      "execution_count": 8,
      "outputs": [
        {
          "output_type": "execute_result",
          "data": {
            "text/plain": [
              "(2163, 784)"
            ]
          },
          "metadata": {},
          "execution_count": 8
        }
      ]
    },
    {
      "cell_type": "code",
      "source": [
        "X_train_final = X_train_final / 255\n",
        "X_test_final = X_test_final / 255"
      ],
      "metadata": {
        "id": "GGaadGjPcSI3"
      },
      "execution_count": 9,
      "outputs": []
    },
    {
      "cell_type": "code",
      "source": [
        "model = keras.Sequential()\n",
        "\n",
        "# First Hidden Layer\n",
        "model.add(keras.layers.Dense(64, input_shape= (784,), activation = 'relu'))\n",
        "# Second Hidden Layer\n",
        "model.add(keras.layers.Dense(32, activation = 'relu'))\n",
        "# Output Layer\n",
        "model.add(keras.layers.Dense(10, activation = 'softmax'))"
      ],
      "metadata": {
        "id": "JwqwOjaxcfD8"
      },
      "execution_count": 10,
      "outputs": []
    },
    {
      "cell_type": "code",
      "source": [
        "model.compile(optimizer='sgd', loss='sparse_categorical_crossentropy', metrics=['accuracy'])"
      ],
      "metadata": {
        "id": "6pERnk4FdyEE"
      },
      "execution_count": 11,
      "outputs": []
    },
    {
      "cell_type": "code",
      "source": [
        "results = model.fit(\n",
        "    x = X_train_final,\n",
        "    y = y_train,\n",
        "    shuffle = True,\n",
        "    epochs = 30,\n",
        "    batch_size = 32,\n",
        "    validation_data = (X_test_final, y_test)\n",
        ")"
      ],
      "metadata": {
        "colab": {
          "base_uri": "https://localhost:8080/"
        },
        "id": "Z9Uqhz48hubZ",
        "outputId": "8dc2986d-411d-42ed-f006-c6ed4ac61788"
      },
      "execution_count": 12,
      "outputs": [
        {
          "output_type": "stream",
          "name": "stdout",
          "text": [
            "Epoch 1/30\n",
            "407/407 [==============================] - 4s 5ms/step - loss: 0.2296 - accuracy: 0.9412 - val_loss: 0.0578 - val_accuracy: 0.9797\n",
            "Epoch 2/30\n",
            "407/407 [==============================] - 2s 5ms/step - loss: 0.0390 - accuracy: 0.9895 - val_loss: 0.0359 - val_accuracy: 0.9875\n",
            "Epoch 3/30\n",
            "407/407 [==============================] - 2s 5ms/step - loss: 0.0291 - accuracy: 0.9922 - val_loss: 0.0312 - val_accuracy: 0.9898\n",
            "Epoch 4/30\n",
            "407/407 [==============================] - 2s 5ms/step - loss: 0.0245 - accuracy: 0.9929 - val_loss: 0.0292 - val_accuracy: 0.9903\n",
            "Epoch 5/30\n",
            "407/407 [==============================] - 1s 3ms/step - loss: 0.0216 - accuracy: 0.9940 - val_loss: 0.0251 - val_accuracy: 0.9917\n",
            "Epoch 6/30\n",
            "407/407 [==============================] - 1s 3ms/step - loss: 0.0196 - accuracy: 0.9945 - val_loss: 0.0223 - val_accuracy: 0.9926\n",
            "Epoch 7/30\n",
            "407/407 [==============================] - 1s 3ms/step - loss: 0.0183 - accuracy: 0.9948 - val_loss: 0.0223 - val_accuracy: 0.9931\n",
            "Epoch 8/30\n",
            "407/407 [==============================] - 1s 3ms/step - loss: 0.0170 - accuracy: 0.9950 - val_loss: 0.0230 - val_accuracy: 0.9926\n",
            "Epoch 9/30\n",
            "407/407 [==============================] - 1s 3ms/step - loss: 0.0162 - accuracy: 0.9951 - val_loss: 0.0208 - val_accuracy: 0.9940\n",
            "Epoch 10/30\n",
            "407/407 [==============================] - 1s 3ms/step - loss: 0.0154 - accuracy: 0.9952 - val_loss: 0.0196 - val_accuracy: 0.9935\n",
            "Epoch 11/30\n",
            "407/407 [==============================] - 1s 3ms/step - loss: 0.0147 - accuracy: 0.9957 - val_loss: 0.0200 - val_accuracy: 0.9940\n",
            "Epoch 12/30\n",
            "407/407 [==============================] - 1s 3ms/step - loss: 0.0142 - accuracy: 0.9958 - val_loss: 0.0208 - val_accuracy: 0.9931\n",
            "Epoch 13/30\n",
            "407/407 [==============================] - 1s 3ms/step - loss: 0.0137 - accuracy: 0.9958 - val_loss: 0.0182 - val_accuracy: 0.9940\n",
            "Epoch 14/30\n",
            "407/407 [==============================] - 1s 3ms/step - loss: 0.0132 - accuracy: 0.9962 - val_loss: 0.0187 - val_accuracy: 0.9931\n",
            "Epoch 15/30\n",
            "407/407 [==============================] - 1s 3ms/step - loss: 0.0129 - accuracy: 0.9961 - val_loss: 0.0190 - val_accuracy: 0.9931\n",
            "Epoch 16/30\n",
            "407/407 [==============================] - 1s 3ms/step - loss: 0.0123 - accuracy: 0.9965 - val_loss: 0.0158 - val_accuracy: 0.9945\n",
            "Epoch 17/30\n",
            "407/407 [==============================] - 1s 3ms/step - loss: 0.0120 - accuracy: 0.9965 - val_loss: 0.0180 - val_accuracy: 0.9935\n",
            "Epoch 18/30\n",
            "407/407 [==============================] - 2s 5ms/step - loss: 0.0118 - accuracy: 0.9964 - val_loss: 0.0176 - val_accuracy: 0.9935\n",
            "Epoch 19/30\n",
            "407/407 [==============================] - 2s 5ms/step - loss: 0.0113 - accuracy: 0.9962 - val_loss: 0.0170 - val_accuracy: 0.9940\n",
            "Epoch 20/30\n",
            "407/407 [==============================] - 1s 3ms/step - loss: 0.0111 - accuracy: 0.9965 - val_loss: 0.0149 - val_accuracy: 0.9940\n",
            "Epoch 21/30\n",
            "407/407 [==============================] - 1s 3ms/step - loss: 0.0108 - accuracy: 0.9969 - val_loss: 0.0164 - val_accuracy: 0.9935\n",
            "Epoch 22/30\n",
            "407/407 [==============================] - 1s 3ms/step - loss: 0.0105 - accuracy: 0.9968 - val_loss: 0.0159 - val_accuracy: 0.9935\n",
            "Epoch 23/30\n",
            "407/407 [==============================] - 1s 3ms/step - loss: 0.0101 - accuracy: 0.9967 - val_loss: 0.0128 - val_accuracy: 0.9963\n",
            "Epoch 24/30\n",
            "407/407 [==============================] - 1s 3ms/step - loss: 0.0100 - accuracy: 0.9972 - val_loss: 0.0142 - val_accuracy: 0.9945\n",
            "Epoch 25/30\n",
            "407/407 [==============================] - 1s 3ms/step - loss: 0.0097 - accuracy: 0.9971 - val_loss: 0.0140 - val_accuracy: 0.9945\n",
            "Epoch 26/30\n",
            "407/407 [==============================] - 1s 3ms/step - loss: 0.0096 - accuracy: 0.9970 - val_loss: 0.0136 - val_accuracy: 0.9954\n",
            "Epoch 27/30\n",
            "407/407 [==============================] - 1s 3ms/step - loss: 0.0093 - accuracy: 0.9973 - val_loss: 0.0128 - val_accuracy: 0.9963\n",
            "Epoch 28/30\n",
            "407/407 [==============================] - 1s 3ms/step - loss: 0.0091 - accuracy: 0.9973 - val_loss: 0.0131 - val_accuracy: 0.9954\n",
            "Epoch 29/30\n",
            "407/407 [==============================] - 1s 3ms/step - loss: 0.0087 - accuracy: 0.9973 - val_loss: 0.0124 - val_accuracy: 0.9958\n",
            "Epoch 30/30\n",
            "407/407 [==============================] - 1s 3ms/step - loss: 0.0087 - accuracy: 0.9971 - val_loss: 0.0120 - val_accuracy: 0.9963\n"
          ]
        }
      ]
    },
    {
      "cell_type": "code",
      "source": [
        "eval = model.evaluate(x = X_test_final, y = y_test)"
      ],
      "metadata": {
        "colab": {
          "base_uri": "https://localhost:8080/"
        },
        "id": "sWhLxWkPwmq-",
        "outputId": "7c8ccd90-5116-44d8-d03e-25d92a3fe7b8"
      },
      "execution_count": 13,
      "outputs": [
        {
          "output_type": "stream",
          "name": "stdout",
          "text": [
            "68/68 [==============================] - 0s 2ms/step - loss: 0.0120 - accuracy: 0.9963\n"
          ]
        }
      ]
    },
    {
      "cell_type": "code",
      "source": [
        "import matplotlib.pyplot as plt"
      ],
      "metadata": {
        "id": "w0wdLlrXkRQS"
      },
      "execution_count": 14,
      "outputs": []
    },
    {
      "cell_type": "code",
      "source": [
        "plt.plot(results.history['loss'])\n",
        "plt.plot(results.history['val_loss'])\n",
        "plt.legend(['Training', 'Validation'])\n",
        "plt.title('Training and Validation Losses')\n",
        "plt.xlabel('epoch')\n",
        "plt.ylabel('Losses')\n"
      ],
      "metadata": {
        "colab": {
          "base_uri": "https://localhost:8080/",
          "height": 312
        },
        "id": "Gm6uiT24kPTt",
        "outputId": "8fbc510c-618d-491d-dffa-0fff32467447"
      },
      "execution_count": 15,
      "outputs": [
        {
          "output_type": "execute_result",
          "data": {
            "text/plain": [
              "Text(0, 0.5, 'Losses')"
            ]
          },
          "metadata": {},
          "execution_count": 15
        },
        {
          "output_type": "display_data",
          "data": {
            "text/plain": [
              "<Figure size 432x288 with 1 Axes>"
            ],
            "image/png": "[encoded data removed]"
          },
          "metadata": {
            "needs_background": "light"
          }
        }
      ]
    },
    {
      "cell_type": "code",
      "source": [
        "plt.plot(results.history['accuracy'])\n",
        "plt.plot(results.history['val_accuracy'])\n",
        "plt.legend(['Training', 'Validation'])\n",
        "plt.title('Training and Validation accuarcy')\n",
        "plt.xlabel('epoch')\n",
        "plt.ylabel('accuarcy')\n"
      ],
      "metadata": {
        "colab": {
          "base_uri": "https://localhost:8080/",
          "height": 312
        },
        "id": "jiiwD9zFllbA",
        "outputId": "7fdb0803-fb30-475b-d9b6-296c1245c937"
      },
      "execution_count": 16,
      "outputs": [
        {
          "output_type": "execute_result",
          "data": {
            "text/plain": [
              "Text(0, 0.5, 'accuarcy')"
            ]
          },
          "metadata": {},
          "execution_count": 16
        },
        {
          "output_type": "display_data",
          "data": {
            "text/plain": [
              "<Figure size 432x288 with 1 Axes>"
            ],
            "image/png": "[encoded data removed]"
          },
          "metadata": {
            "needs_background": "light"
          }
        }
      ]
    },
    {
      "cell_type": "code",
      "source": [
        "model.summary()"
      ],
      "metadata": {
        "id": "aQqJMbkWwXjN",
        "colab": {
          "base_uri": "https://localhost:8080/"
        },
        "outputId": "11076cc3-49fa-4e98-ce6c-28cc6033b0e5"
      },
      "execution_count": 17,
      "outputs": [
        {
          "output_type": "stream",
          "name": "stdout",
          "text": [
            "Model: \"sequential\"\n",
            "_________________________________________________________________\n",
            " Layer (type)                Output Shape              Param #   \n",
            "=================================================================\n",
            " dense (Dense)               (None, 64)                50240     \n",
            "                                                                 \n",
            " dense_1 (Dense)             (None, 32)                2080      \n",
            "                                                                 \n",
            " dense_2 (Dense)             (None, 10)                330       \n",
            "                                                                 \n",
            "=================================================================\n",
            "Total params: 52,650\n",
            "Trainable params: 52,650\n",
            "Non-trainable params: 0\n",
            "_________________________________________________________________\n"
          ]
        }
      ]
    }
  ]
}